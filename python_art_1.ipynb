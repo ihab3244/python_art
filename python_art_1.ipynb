{
  "nbformat": 4,
  "nbformat_minor": 0,
  "metadata": {
    "colab": {
      "name": "python_art_1.ipynb",
      "provenance": [],
      "authorship_tag": "ABX9TyNyQZnNXU6GdikyF5WScUA5",
      "include_colab_link": true
    },
    "kernelspec": {
      "name": "python3",
      "display_name": "Python 3"
    }
  },
  "cells": [
    {
      "cell_type": "markdown",
      "metadata": {
        "id": "view-in-github",
        "colab_type": "text"
      },
      "source": [
        "<a href=\"https://colab.research.google.com/github/ihab3244/python_art/blob/master/python_art_1.ipynb\" target=\"_parent\"><img src=\"https://colab.research.google.com/assets/colab-badge.svg\" alt=\"Open In Colab\"/></a>"
      ]
    },
    {
      "cell_type": "code",
      "metadata": {
        "id": "7fK9bAdHcjM6",
        "colab_type": "code",
        "colab": {
          "base_uri": "https://localhost:8080/",
          "height": 573
        },
        "outputId": "ab74244f-bd35-4898-dabf-1f62c66a51f7"
      },
      "source": [
        "#python art session one \n",
        "h = eval(input(\"enter odd number\"))\n",
        "#check if the number is odd number : \n",
        "while ((h%2)==0):\n",
        "    h= (eval(input(\"please enter odd number : \")))\n",
        "w = h \n",
        "D = []\n",
        "#adding values to the array D :\n",
        "for i in range (h):\n",
        "    d = []\n",
        "    mw = int ((w-1)/ 2 )\n",
        "    mh = int((h-1)/2)\n",
        "    for j in range (w):\n",
        "      if i <= mh :\n",
        "          if j in range (mw-i , mw+i+1):\n",
        "              d.append('*')\n",
        "          else:\n",
        "              d.append(' ')\n",
        "      else: \n",
        "          if j in range (i-mw , (w-1)-(i-mw)+1):\n",
        "              d.append('*')\n",
        "          else:\n",
        "              d.append(' ')\n",
        "\n",
        "    D.append(d)\n",
        "\n",
        "#Printing the array D : \n",
        "for r in D:\n",
        "  for c in r :\n",
        "      print (c,end='')\n",
        "  print() \n",
        "  \n"
      ],
      "execution_count": 58,
      "outputs": [
        {
          "output_type": "stream",
          "text": [
            "enter odd number2\n",
            "please enter odd number : 4\n",
            "please enter odd number : 10\n",
            "please enter odd number : 18\n",
            "please enter odd number : 24\n",
            "please enter odd number : 6\n",
            "please enter odd number : 25\n",
            "            *            \n",
            "           ***           \n",
            "          *****          \n",
            "         *******         \n",
            "        *********        \n",
            "       ***********       \n",
            "      *************      \n",
            "     ***************     \n",
            "    *****************    \n",
            "   *******************   \n",
            "  *********************  \n",
            " *********************** \n",
            "*************************\n",
            " *********************** \n",
            "  *********************  \n",
            "   *******************   \n",
            "    *****************    \n",
            "     ***************     \n",
            "      *************      \n",
            "       ***********       \n",
            "        *********        \n",
            "         *******         \n",
            "          *****          \n",
            "           ***           \n",
            "            *            \n"
          ],
          "name": "stdout"
        }
      ]
    }
  ]
}